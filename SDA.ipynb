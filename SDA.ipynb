{
 "cells": [
  {
   "cell_type": "code",
   "execution_count": 1,
   "metadata": {},
   "outputs": [],
   "source": [
    "import numpy as np\n",
    "from numpy.linalg import eig"
   ]
  },
  {
   "cell_type": "code",
   "execution_count": 2,
   "metadata": {},
   "outputs": [
    {
     "name": "stdout",
     "output_type": "stream",
     "text": [
      "E-value: [7.82561818e+00 3.81822871e-04]\n",
      "E-vector [[ 0.9195515  -0.59525547]\n",
      " [ 0.39296952  0.80353651]]\n"
     ]
    }
   ],
   "source": [
    "a = np.array([[5.944, 4.403], \n",
    "              [2.54, 1.882]])\n",
    "w,v=eig(a)\n",
    "print('E-value:', w)\n",
    "print('E-vector', v)"
   ]
  },
  {
   "cell_type": "code",
   "execution_count": 42,
   "metadata": {},
   "outputs": [
    {
     "name": "stdout",
     "output_type": "stream",
     "text": [
      "Mean along columns 1 (axis 0): [3.  3.6]\n",
      "Mean along columns 2 (axis 0): [8.4 7.6]\n",
      "[[ 1.  -2.6]\n",
      " [-1.   0.4]\n",
      " [-1.  -0.6]\n",
      " [ 0.   2.4]\n",
      " [ 1.   0.4]]\n",
      "[[ 0.6  2.4]\n",
      " [-2.4  0.4]\n",
      " [ 0.6 -2.6]\n",
      " [-0.4 -0.6]\n",
      " [ 1.6  0.4]]\n",
      "Sw1:  [[ 0.8  -0.4 ]\n",
      " [-0.4   2.64]]\n",
      "Sw2:  [[ 1.84 -0.04]\n",
      " [-0.04  2.64]]\n",
      "Sw:  [[ 1.32 -0.22]\n",
      " [-0.22  2.64]]\n",
      "Sb:  [[7.29 5.4 ]\n",
      " [5.4  4.  ]]\n",
      "Sw^-1 * Sb: [[5.94622279 4.40460948]\n",
      " [2.54097311 1.8822023 ]]\n",
      "E-value: [7.82842510e+00 6.58568061e-17]\n",
      "E-vector [[ 0.91955932 -0.59522755]\n",
      " [ 0.39295122  0.80355719]]\n"
     ]
    }
   ],
   "source": [
    "import numpy as np\n",
    "from numpy.linalg import eig\n",
    "\n",
    "c1 = np.array([[4, 1], [2,4],[2,3],[3,6],[4,4]])\n",
    "c2 = np.array([[9,10],[6,8],[9,5],[8,7],[10,8]])\n",
    "\n",
    "u_c1 = np.mean(c1, axis=0)\n",
    "u_c2 = np.mean(c2, axis=0)\n",
    "\n",
    "\n",
    "print(\"Mean along columns 1 (axis 0):\", u_c1)\n",
    "print(\"Mean along columns 2 (axis 0):\", u_c2)\n",
    "\n",
    "c1_u_c1 = c1 - u_c1\n",
    "c2_u_c2 = c2 - u_c2\n",
    "\n",
    "print(c1_u_c1)\n",
    "print(c2_u_c2)\n",
    "\n",
    "c1_u_c1_T = c1_u_c1.T\n",
    "c2_u_c2_T = c2_u_c2.T\n",
    "\n",
    "# Calculate Sw using the provided formula\n",
    "N1 = c1.shape[0]\n",
    "N2 = c2.shape[0]\n",
    "\n",
    "Sw1 = (1 / N1) * c1_u_c1_T.dot(c1_u_c1)\n",
    "Sw2 = (1 / N2) * c2_u_c2_T.dot(c2_u_c2)\n",
    "print(\"Sw1: \", Sw1)\n",
    "print(\"Sw2: \", Sw2)\n",
    "\n",
    "Sw = N1/(N1+N2) * (Sw1 + Sw2)\n",
    "print(\"Sw: \", Sw)\n",
    "\n",
    "full_data = np.vstack((c1, c2))\n",
    "mean_total_data = np.mean(full_data, axis=0)\n",
    "\n",
    "u_c1_ut = u_c1 - mean_total_data\n",
    "u_c2_ut = u_c2 - mean_total_data\n",
    "\n",
    "Sb = 0.5 * (np.outer(u_c1_ut, u_c1_ut) + np.outer(u_c2_ut, u_c2_ut))\n",
    "\n",
    "print(\"Sb: \", Sb)\n",
    "\n",
    "Sw_inverse = np.linalg.inv(Sw)\n",
    "\n",
    "# Calculate Sw^-1 * Sb\n",
    "result = np.dot(Sw_inverse, Sb)\n",
    "\n",
    "print(\"Sw^-1 * Sb:\", result)\n",
    "\n",
    "w,v=eig(result)\n",
    "print('E-value:', w)\n",
    "print('E-vector', v)"
   ]
  },
  {
   "cell_type": "code",
   "execution_count": 7,
   "metadata": {},
   "outputs": [
    {
     "data": {
      "text/html": [
       "<style>#sk-container-id-2 {color: black;}#sk-container-id-2 pre{padding: 0;}#sk-container-id-2 div.sk-toggleable {background-color: white;}#sk-container-id-2 label.sk-toggleable__label {cursor: pointer;display: block;width: 100%;margin-bottom: 0;padding: 0.3em;box-sizing: border-box;text-align: center;}#sk-container-id-2 label.sk-toggleable__label-arrow:before {content: \"▸\";float: left;margin-right: 0.25em;color: #696969;}#sk-container-id-2 label.sk-toggleable__label-arrow:hover:before {color: black;}#sk-container-id-2 div.sk-estimator:hover label.sk-toggleable__label-arrow:before {color: black;}#sk-container-id-2 div.sk-toggleable__content {max-height: 0;max-width: 0;overflow: hidden;text-align: left;background-color: #f0f8ff;}#sk-container-id-2 div.sk-toggleable__content pre {margin: 0.2em;color: black;border-radius: 0.25em;background-color: #f0f8ff;}#sk-container-id-2 input.sk-toggleable__control:checked~div.sk-toggleable__content {max-height: 200px;max-width: 100%;overflow: auto;}#sk-container-id-2 input.sk-toggleable__control:checked~label.sk-toggleable__label-arrow:before {content: \"▾\";}#sk-container-id-2 div.sk-estimator input.sk-toggleable__control:checked~label.sk-toggleable__label {background-color: #d4ebff;}#sk-container-id-2 div.sk-label input.sk-toggleable__control:checked~label.sk-toggleable__label {background-color: #d4ebff;}#sk-container-id-2 input.sk-hidden--visually {border: 0;clip: rect(1px 1px 1px 1px);clip: rect(1px, 1px, 1px, 1px);height: 1px;margin: -1px;overflow: hidden;padding: 0;position: absolute;width: 1px;}#sk-container-id-2 div.sk-estimator {font-family: monospace;background-color: #f0f8ff;border: 1px dotted black;border-radius: 0.25em;box-sizing: border-box;margin-bottom: 0.5em;}#sk-container-id-2 div.sk-estimator:hover {background-color: #d4ebff;}#sk-container-id-2 div.sk-parallel-item::after {content: \"\";width: 100%;border-bottom: 1px solid gray;flex-grow: 1;}#sk-container-id-2 div.sk-label:hover label.sk-toggleable__label {background-color: #d4ebff;}#sk-container-id-2 div.sk-serial::before {content: \"\";position: absolute;border-left: 1px solid gray;box-sizing: border-box;top: 0;bottom: 0;left: 50%;z-index: 0;}#sk-container-id-2 div.sk-serial {display: flex;flex-direction: column;align-items: center;background-color: white;padding-right: 0.2em;padding-left: 0.2em;position: relative;}#sk-container-id-2 div.sk-item {position: relative;z-index: 1;}#sk-container-id-2 div.sk-parallel {display: flex;align-items: stretch;justify-content: center;background-color: white;position: relative;}#sk-container-id-2 div.sk-item::before, #sk-container-id-2 div.sk-parallel-item::before {content: \"\";position: absolute;border-left: 1px solid gray;box-sizing: border-box;top: 0;bottom: 0;left: 50%;z-index: -1;}#sk-container-id-2 div.sk-parallel-item {display: flex;flex-direction: column;z-index: 1;position: relative;background-color: white;}#sk-container-id-2 div.sk-parallel-item:first-child::after {align-self: flex-end;width: 50%;}#sk-container-id-2 div.sk-parallel-item:last-child::after {align-self: flex-start;width: 50%;}#sk-container-id-2 div.sk-parallel-item:only-child::after {width: 0;}#sk-container-id-2 div.sk-dashed-wrapped {border: 1px dashed gray;margin: 0 0.4em 0.5em 0.4em;box-sizing: border-box;padding-bottom: 0.4em;background-color: white;}#sk-container-id-2 div.sk-label label {font-family: monospace;font-weight: bold;display: inline-block;line-height: 1.2em;}#sk-container-id-2 div.sk-label-container {text-align: center;}#sk-container-id-2 div.sk-container {/* jupyter's `normalize.less` sets `[hidden] { display: none; }` but bootstrap.min.css set `[hidden] { display: none !important; }` so we also need the `!important` here to be able to override the default hidden behavior on the sphinx rendered scikit-learn.org. See: https://github.com/scikit-learn/scikit-learn/issues/21755 */display: inline-block !important;position: relative;}#sk-container-id-2 div.sk-text-repr-fallback {display: none;}</style><div id=\"sk-container-id-2\" class=\"sk-top-container\"><div class=\"sk-text-repr-fallback\"><pre>LinearDiscriminantAnalysis()</pre><b>In a Jupyter environment, please rerun this cell to show the HTML representation or trust the notebook. <br />On GitHub, the HTML representation is unable to render, please try loading this page with nbviewer.org.</b></div><div class=\"sk-container\" hidden><div class=\"sk-item\"><div class=\"sk-estimator sk-toggleable\"><input class=\"sk-toggleable__control sk-hidden--visually\" id=\"sk-estimator-id-2\" type=\"checkbox\" checked><label for=\"sk-estimator-id-2\" class=\"sk-toggleable__label sk-toggleable__label-arrow\">LinearDiscriminantAnalysis</label><div class=\"sk-toggleable__content\"><pre>LinearDiscriminantAnalysis()</pre></div></div></div></div></div>"
      ],
      "text/plain": [
       "LinearDiscriminantAnalysis()"
      ]
     },
     "execution_count": 7,
     "metadata": {},
     "output_type": "execute_result"
    }
   ],
   "source": [
    "import numpy as np\n",
    "from sklearn.discriminant_analysis import LinearDiscriminantAnalysis\n",
    "X = np.array([[4, 1], [2,4],[2,3],[3,6],[4,4],[9,10],[6,8],[9,5],[8,7],[10,8]])\n",
    "y = np.array([1, 1, 1, 1, 1, 2, 2, 2, 2, 2])\n",
    "clf = LinearDiscriminantAnalysis()\n",
    "clf.fit(X, y)"
   ]
  },
  {
   "cell_type": "code",
   "execution_count": null,
   "metadata": {},
   "outputs": [],
   "source": []
  }
 ],
 "metadata": {
  "kernelspec": {
   "display_name": "Python 3",
   "language": "python",
   "name": "python3"
  },
  "language_info": {
   "codemirror_mode": {
    "name": "ipython",
    "version": 3
   },
   "file_extension": ".py",
   "mimetype": "text/x-python",
   "name": "python",
   "nbconvert_exporter": "python",
   "pygments_lexer": "ipython3",
   "version": "3.11.6"
  }
 },
 "nbformat": 4,
 "nbformat_minor": 2
}
