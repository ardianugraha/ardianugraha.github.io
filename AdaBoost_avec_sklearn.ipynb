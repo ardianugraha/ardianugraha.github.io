{
 "cells": [
  {
   "cell_type": "markdown",
   "metadata": {
    "id": "fy6W0ilolOJz"
   },
   "source": [
    "# AdaBoost with sklearn"
   ]
  },
  {
   "cell_type": "markdown",
   "metadata": {
    "id": "k6tKI42vlSgU"
   },
   "source": [
    "## Import packages"
   ]
  },
  {
   "cell_type": "code",
   "execution_count": 3,
   "metadata": {
    "id": "A4y7IJyHlWUD"
   },
   "outputs": [],
   "source": [
    "import pandas as pd\n",
    "import numpy as np\n",
    "\n",
    "from sklearn.preprocessing import StandardScaler\n",
    "from sklearn.tree import DecisionTreeClassifier\n",
    "from sklearn.linear_model import LogisticRegression\n",
    "from sklearn.svm import SVC\n",
    "from sklearn.ensemble import AdaBoostClassifier\n",
    "from sklearn.datasets import load_breast_cancer\n",
    "from sklearn.model_selection import train_test_split"
   ]
  },
  {
   "cell_type": "markdown",
   "metadata": {
    "id": "04DiQmx0lfq1"
   },
   "source": [
    "## Import data"
   ]
  },
  {
   "cell_type": "code",
   "execution_count": 4,
   "metadata": {
    "id": "5GeYyEfblfbL"
   },
   "outputs": [
    {
     "name": "stdout",
     "output_type": "stream",
     "text": [
      "Features:  ['mean radius' 'mean texture' 'mean perimeter' 'mean area'\n",
      " 'mean smoothness' 'mean compactness' 'mean concavity'\n",
      " 'mean concave points' 'mean symmetry' 'mean fractal dimension'\n",
      " 'radius error' 'texture error' 'perimeter error' 'area error'\n",
      " 'smoothness error' 'compactness error' 'concavity error'\n",
      " 'concave points error' 'symmetry error' 'fractal dimension error'\n",
      " 'worst radius' 'worst texture' 'worst perimeter' 'worst area'\n",
      " 'worst smoothness' 'worst compactness' 'worst concavity'\n",
      " 'worst concave points' 'worst symmetry' 'worst fractal dimension']\n",
      "Labels:  ['malignant' 'benign']\n"
     ]
    },
    {
     "data": {
      "text/plain": [
       "(569, 30)"
      ]
     },
     "execution_count": 4,
     "metadata": {},
     "output_type": "execute_result"
    }
   ],
   "source": [
    "cancer = load_breast_cancer()\n",
    "# print the names of the 13 features\n",
    "print(\"Features: \", cancer.feature_names)\n",
    "\n",
    "# print the label type of cancer('malignant' 'benign')\n",
    "print(\"Labels: \", cancer.target_names)\n",
    "\n",
    "# print data(feature)shape\n",
    "cancer.data.shape"
   ]
  },
  {
   "cell_type": "code",
   "execution_count": 5,
   "metadata": {},
   "outputs": [
    {
     "name": "stdout",
     "output_type": "stream",
     "text": [
      "[[1.799e+01 1.038e+01 1.228e+02 1.001e+03 1.184e-01 2.776e-01 3.001e-01\n",
      "  1.471e-01 2.419e-01 7.871e-02 1.095e+00 9.053e-01 8.589e+00 1.534e+02\n",
      "  6.399e-03 4.904e-02 5.373e-02 1.587e-02 3.003e-02 6.193e-03 2.538e+01\n",
      "  1.733e+01 1.846e+02 2.019e+03 1.622e-01 6.656e-01 7.119e-01 2.654e-01\n",
      "  4.601e-01 1.189e-01]\n",
      " [2.057e+01 1.777e+01 1.329e+02 1.326e+03 8.474e-02 7.864e-02 8.690e-02\n",
      "  7.017e-02 1.812e-01 5.667e-02 5.435e-01 7.339e-01 3.398e+00 7.408e+01\n",
      "  5.225e-03 1.308e-02 1.860e-02 1.340e-02 1.389e-02 3.532e-03 2.499e+01\n",
      "  2.341e+01 1.588e+02 1.956e+03 1.238e-01 1.866e-01 2.416e-01 1.860e-01\n",
      "  2.750e-01 8.902e-02]\n",
      " [1.969e+01 2.125e+01 1.300e+02 1.203e+03 1.096e-01 1.599e-01 1.974e-01\n",
      "  1.279e-01 2.069e-01 5.999e-02 7.456e-01 7.869e-01 4.585e+00 9.403e+01\n",
      "  6.150e-03 4.006e-02 3.832e-02 2.058e-02 2.250e-02 4.571e-03 2.357e+01\n",
      "  2.553e+01 1.525e+02 1.709e+03 1.444e-01 4.245e-01 4.504e-01 2.430e-01\n",
      "  3.613e-01 8.758e-02]\n",
      " [1.142e+01 2.038e+01 7.758e+01 3.861e+02 1.425e-01 2.839e-01 2.414e-01\n",
      "  1.052e-01 2.597e-01 9.744e-02 4.956e-01 1.156e+00 3.445e+00 2.723e+01\n",
      "  9.110e-03 7.458e-02 5.661e-02 1.867e-02 5.963e-02 9.208e-03 1.491e+01\n",
      "  2.650e+01 9.887e+01 5.677e+02 2.098e-01 8.663e-01 6.869e-01 2.575e-01\n",
      "  6.638e-01 1.730e-01]\n",
      " [2.029e+01 1.434e+01 1.351e+02 1.297e+03 1.003e-01 1.328e-01 1.980e-01\n",
      "  1.043e-01 1.809e-01 5.883e-02 7.572e-01 7.813e-01 5.438e+00 9.444e+01\n",
      "  1.149e-02 2.461e-02 5.688e-02 1.885e-02 1.756e-02 5.115e-03 2.254e+01\n",
      "  1.667e+01 1.522e+02 1.575e+03 1.374e-01 2.050e-01 4.000e-01 1.625e-01\n",
      "  2.364e-01 7.678e-02]]\n",
      "[0 0 0 0 0 0 0 0 0 0 0 0 0 0 0 0 0 0 0 1 1 1 0 0 0 0 0 0 0 0 0 0 0 0 0 0 0\n",
      " 1 0 0 0 0 0 0 0 0 1 0 1 1 1 1 1 0 0 1 0 0 1 1 1 1 0 1 0 0 1 1 1 1 0 1 0 0\n",
      " 1 0 1 0 0 1 1 1 0 0 1 0 0 0 1 1 1 0 1 1 0 0 1 1 1 0 0 1 1 1 1 0 1 1 0 1 1\n",
      " 1 1 1 1 1 1 0 0 0 1 0 0 1 1 1 0 0 1 0 1 0 0 1 0 0 1 1 0 1 1 0 1 1 1 1 0 1\n",
      " 1 1 1 1 1 1 1 1 0 1 1 1 1 0 0 1 0 1 1 0 0 1 1 0 0 1 1 1 1 0 1 1 0 0 0 1 0\n",
      " 1 0 1 1 1 0 1 1 0 0 1 0 0 0 0 1 0 0 0 1 0 1 0 1 1 0 1 0 0 0 0 1 1 0 0 1 1\n",
      " 1 0 1 1 1 1 1 0 0 1 1 0 1 1 0 0 1 0 1 1 1 1 0 1 1 1 1 1 0 1 0 0 0 0 0 0 0\n",
      " 0 0 0 0 0 0 0 1 1 1 1 1 1 0 1 0 1 1 0 1 1 0 1 0 0 1 1 1 1 1 1 1 1 1 1 1 1\n",
      " 1 0 1 1 0 1 0 1 1 1 1 1 1 1 1 1 1 1 1 1 1 0 1 1 1 0 1 0 1 1 1 1 0 0 0 1 1\n",
      " 1 1 0 1 0 1 0 1 1 1 0 1 1 1 1 1 1 1 0 0 0 1 1 1 1 1 1 1 1 1 1 1 0 0 1 0 0\n",
      " 0 1 0 0 1 1 1 1 1 0 1 1 1 1 1 0 1 1 1 0 1 1 0 0 1 1 1 1 1 1 0 1 1 1 1 1 1\n",
      " 1 0 1 1 1 1 1 0 1 1 0 1 1 1 1 1 1 1 1 1 1 1 1 0 1 0 0 1 0 1 1 1 1 1 0 1 1\n",
      " 0 1 0 1 1 0 1 0 1 1 1 1 1 1 1 1 0 0 1 1 1 1 1 1 0 1 1 1 1 1 1 1 1 1 1 0 1\n",
      " 1 1 1 1 1 1 0 1 0 1 1 0 1 1 1 1 1 0 0 1 0 1 0 1 1 1 1 1 0 1 1 0 1 0 1 0 0\n",
      " 1 1 1 0 1 1 1 1 1 1 1 1 1 1 1 0 1 0 0 1 1 1 1 1 1 1 1 1 1 1 1 1 1 1 1 1 1\n",
      " 1 1 1 1 1 1 1 0 0 0 0 0 0 1]\n"
     ]
    }
   ],
   "source": [
    "# print the cancer data features (top 5 records)\n",
    "print(cancer.data[0:5])\n",
    "\n",
    "# print the cancer labels (0:malignant, 1:benign)\n",
    "print(cancer.target)"
   ]
  },
  {
   "cell_type": "code",
   "execution_count": 6,
   "metadata": {},
   "outputs": [],
   "source": [
    "x = cancer['data']\n",
    "y = cancer['target']\n",
    "\n",
    "x_train, x_test, y_train, y_test = train_test_split(x, y, test_size=0.3, random_state=42)  # 70% training and 30% test\n"
   ]
  },
  {
   "cell_type": "markdown",
   "metadata": {
    "id": "QfO0UpPblkQJ"
   },
   "source": [
    "# Objectives of the practical session\n",
    "1. Comparative study of the two ensemble learning approaches : Bagging versus Boosting\n",
    "2. Analysis of each hyperparameter of the AdaBoost algorithm. This way, you can wisely choose the most suitable hyperparameters for your problem in order to train the best performing AdaBoost model."
   ]
  },
  {
   "cell_type": "markdown",
   "metadata": {},
   "source": [
    "# 1. Comparing Baggin and Boosting, using decision tree models"
   ]
  },
  {
   "cell_type": "code",
   "execution_count": 12,
   "metadata": {},
   "outputs": [
    {
     "name": "stdout",
     "output_type": "stream",
     "text": [
      "Accuracy = 94.152 %\n",
      "Accuracy = 100.0 %\n"
     ]
    }
   ],
   "source": [
    "from sklearn.ensemble import BaggingClassifier\n",
    "from sklearn import tree\n",
    "\n",
    "# Bagging Classifier with one model, namely a decision tree\n",
    "clf = tree.DecisionTreeClassifier(random_state=42)\n",
    "clf.fit(x_train, y_train)\n",
    "y_pred = clf.predict(x_test)\n",
    "accuracy_test = clf.score(x_test,y_test)\n",
    "print('Accuracy =', round(accuracy_test*100,3),'%')\n",
    "\n",
    "accuracy_train = clf.score(x_train,y_train)\n",
    "print('Accuracy =', round(accuracy_train*100,3),'%')"
   ]
  },
  {
   "cell_type": "code",
   "execution_count": 13,
   "metadata": {},
   "outputs": [
    {
     "name": "stdout",
     "output_type": "stream",
     "text": [
      "Accuracy = 95.906 %\n"
     ]
    }
   ],
   "source": [
    "# Bagging Classifier with several decision trees\n",
    "clf = BaggingClassifier(tree.DecisionTreeClassifier(), n_estimators=300, random_state=42)\n",
    "clf.fit(x_train, y_train)\n",
    "y_pred = clf.predict(x_test)\n",
    "accuracy = clf.score(x_test,y_test)\n",
    "print('Accuracy =', round(accuracy*100,3),'%')\n"
   ]
  },
  {
   "cell_type": "code",
   "execution_count": 14,
   "metadata": {},
   "outputs": [
    {
     "name": "stdout",
     "output_type": "stream",
     "text": [
      "Accuracy = 97.076 %\n"
     ]
    }
   ],
   "source": [
    "# Bagging Classifier : Random Forest \n",
    "from sklearn.ensemble import RandomForestClassifier\n",
    "clf = RandomForestClassifier(n_estimators=300, random_state=42)\n",
    "clf.fit(x_train, y_train)\n",
    "y_pred = clf.predict(x_test)\n",
    "accuracy = clf.score(x_test,y_test)\n",
    "print('Accuracy =', round(accuracy*100,3),'%')"
   ]
  },
  {
   "cell_type": "code",
   "execution_count": 15,
   "metadata": {},
   "outputs": [
    {
     "name": "stdout",
     "output_type": "stream",
     "text": [
      "Accuracy = 97.661 %\n"
     ]
    }
   ],
   "source": [
    "# Boosting approach : Adaboost\n",
    "weak_learner = DecisionTreeClassifier(max_depth=1) # One level decision tree (decision stump)\n",
    "model_ada_tree = AdaBoostClassifier(estimator=weak_learner)\n",
    "\n",
    "model_ada_tree.fit(x_train, y_train)\n",
    "y_pred = model_ada_tree.predict(x_test)\n",
    "\n",
    "print('Accuracy =', round(np.mean(y_test==y_pred)*100,3),'%')"
   ]
  },
  {
   "cell_type": "markdown",
   "metadata": {},
   "source": [
    "# 2. Analysis of Adaboost parameters"
   ]
  },
  {
   "cell_type": "markdown",
   "metadata": {},
   "source": [
    "### estimator"
   ]
  },
  {
   "cell_type": "markdown",
   "metadata": {},
   "source": [
    "The parameter *estimator* defines which algorithm we will use in our Boosting procedure. We can use any type of algorithm with sklearn.\n",
    "\n",
    "**Question : Compare and explain the obtained performance of the 4 classifiers used below**"
   ]
  },
  {
   "cell_type": "code",
   "execution_count": 23,
   "metadata": {},
   "outputs": [
    {
     "name": "stdout",
     "output_type": "stream",
     "text": [
      "Accuracy = 97.661 %\n"
     ]
    }
   ],
   "source": [
    "# Two types of weak_learner : Use one decision tree with max_depth equals to 1 and then to 5\n",
    "\n",
    "weak_learner = DecisionTreeClassifier(max_depth=1) \n",
    "model_ada_tree = AdaBoostClassifier(estimator=weak_learner)\n",
    "\n",
    "model_ada_tree.fit(x_train, y_train)\n",
    "y_pred = model_ada_tree.predict(x_test)\n",
    "\n",
    "print('Accuracy =', round(np.mean(y_test==y_pred)*100,3),'%')"
   ]
  },
  {
   "cell_type": "code",
   "execution_count": 24,
   "metadata": {
    "colab": {
     "base_uri": "https://localhost:8080/"
    },
    "id": "1_UgcL6616r2",
    "outputId": "94af75e0-56ed-4e44-821f-b42fcd78fc0e"
   },
   "outputs": [
    {
     "name": "stdout",
     "output_type": "stream",
     "text": [
      "Accuracy = 95.906 %\n"
     ]
    }
   ],
   "source": [
    "# weak_learner : Use a linear SVM classifier \n",
    "\n",
    "weak_learner = SVC(probability=True, kernel='linear')\n",
    "model_ada_rl = AdaBoostClassifier(estimator=weak_learner)\n",
    "\n",
    "scaler = StandardScaler().fit(x_train)\n",
    "x_train_scale = scaler.transform(x_train)\n",
    "model_ada_rl.fit(x_train_scale, y_train)\n",
    "x_test_scale = scaler.transform(x_test)\n",
    "y_pred = model_ada_rl.predict(x_test_scale)\n",
    "\n",
    "print('Accuracy =', round(np.mean(y_test==y_pred)*100,3),'%')"
   ]
  },
  {
   "cell_type": "code",
   "execution_count": 25,
   "metadata": {},
   "outputs": [
    {
     "name": "stdout",
     "output_type": "stream",
     "text": [
      "Accuracy = 98.246 %\n"
     ]
    }
   ],
   "source": [
    "# weak_learner : Use a Logistic Regression\n",
    "\n",
    "weak_learner = LogisticRegression()\n",
    "model_ada_rl = AdaBoostClassifier(estimator=weak_learner)\n",
    "\n",
    "scaler = StandardScaler().fit(x_train)\n",
    "\n",
    "x_train_scale = scaler.transform(x_train)\n",
    "model_ada_rl.fit(x_train_scale, y_train)\n",
    "\n",
    "x_test_scale = scaler.transform(x_test)\n",
    "y_pred = model_ada_rl.predict(x_test_scale)\n",
    "\n",
    "print('Accuracy =', round(np.mean(y_test==y_pred)*100,3),'%')"
   ]
  },
  {
   "cell_type": "markdown",
   "metadata": {
    "id": "uX729i2ZlziA"
   },
   "source": [
    "### n_estimators"
   ]
  },
  {
   "cell_type": "markdown",
   "metadata": {
    "id": "UlG2aPsB33SJ"
   },
   "source": [
    "The parameter *n_estimators* defines the number of models (estimators) used for the ensemble design.\n",
    "**Question : Study the impact of the number of used models in the ensemble approach**"
   ]
  },
  {
   "cell_type": "code",
   "execution_count": 44,
   "metadata": {
    "colab": {
     "base_uri": "https://localhost:8080/"
    },
    "id": "eQSdloBAl39n",
    "outputId": "8b7f69ee-4a50-4b2a-ccca-4ad417f513ea"
   },
   "outputs": [
    {
     "name": "stdout",
     "output_type": "stream",
     "text": [
      "Accuracy = 98.246 %\n"
     ]
    }
   ],
   "source": [
    "# Try with n_estimators equals to 1, 5, 10, 20, and 100 \n",
    "weak_learner = DecisionTreeClassifier(max_depth=1)\n",
    "model_ada_tree = AdaBoostClassifier(estimator=weak_learner, n_estimators=100)\n",
    "\n",
    "model_ada_tree.fit(x_train, y_train)\n",
    "y_pred = model_ada_tree.predict(x_test)\n",
    "\n",
    "print('Accuracy =', round(np.mean(y_test==y_pred)*100,3),'%')"
   ]
  },
  {
   "cell_type": "markdown",
   "metadata": {
    "id": "y_TkC1d_l6M_"
   },
   "source": [
    "### learning_rate"
   ]
  },
  {
   "cell_type": "markdown",
   "metadata": {
    "id": "ZsdFbIEI6vvP"
   },
   "source": [
    "Controls the rate or the speed at which the weights change per iteration. Weight applied to each classifier at each boosting iteration. A higher learning rate increases the contribution of each classifier\n",
    "\n",
    "**Question : Study the relathionship between n_estimators ad learning_rate**\n",
    "\n",
    "**Case 1 : n_estimators=100, learning_rate = 0.5 and then 1**\n",
    "\n",
    "**Case 2 : learning_rate=0.5, n_estimators= 50 and then 500**\n"
   ]
  },
  {
   "cell_type": "code",
   "execution_count": 50,
   "metadata": {
    "colab": {
     "base_uri": "https://localhost:8080/"
    },
    "id": "Fy8VtsvRl8_B",
    "outputId": "f1d291ad-80fc-450c-a415-9d7afc406ab0"
   },
   "outputs": [
    {
     "name": "stdout",
     "output_type": "stream",
     "text": [
      "Accuracy = 98.246 %\n"
     ]
    }
   ],
   "source": [
    "weak_learner = DecisionTreeClassifier(max_depth=1)\n",
    "model_ada_tree = AdaBoostClassifier(estimator=weak_learner, n_estimators=500, learning_rate=0.5)\n",
    "\n",
    "model_ada_tree.fit(x_train, y_train)\n",
    "y_pred = model_ada_tree.predict(x_test)\n",
    "\n",
    "print('Accuracy =', round(np.mean(y_test==y_pred)*100,3),'%')"
   ]
  },
  {
   "cell_type": "markdown",
   "metadata": {
    "id": "u_rJQBoZmDrw"
   },
   "source": [
    "## The attributes\n",
    "\n",
    "We can obtain different information on the trained model as follows"
   ]
  },
  {
   "cell_type": "markdown",
   "metadata": {
    "id": "hLmufbKgmnYh"
   },
   "source": [
    "### base_estimator_"
   ]
  },
  {
   "cell_type": "markdown",
   "metadata": {
    "id": "6aPXt4kI-Qe9"
   },
   "source": [
    "To have access to the base_estimator chosen: "
   ]
  },
  {
   "cell_type": "code",
   "execution_count": 61,
   "metadata": {
    "colab": {
     "base_uri": "https://localhost:8080/"
    },
    "id": "lxpSkDLvmGY0",
    "outputId": "56be589e-a1c6-46ff-fcbf-03ce410da4a7"
   },
   "outputs": [
    {
     "data": {
      "text/html": [
       "<style>#sk-container-id-3 {color: black;}#sk-container-id-3 pre{padding: 0;}#sk-container-id-3 div.sk-toggleable {background-color: white;}#sk-container-id-3 label.sk-toggleable__label {cursor: pointer;display: block;width: 100%;margin-bottom: 0;padding: 0.3em;box-sizing: border-box;text-align: center;}#sk-container-id-3 label.sk-toggleable__label-arrow:before {content: \"▸\";float: left;margin-right: 0.25em;color: #696969;}#sk-container-id-3 label.sk-toggleable__label-arrow:hover:before {color: black;}#sk-container-id-3 div.sk-estimator:hover label.sk-toggleable__label-arrow:before {color: black;}#sk-container-id-3 div.sk-toggleable__content {max-height: 0;max-width: 0;overflow: hidden;text-align: left;background-color: #f0f8ff;}#sk-container-id-3 div.sk-toggleable__content pre {margin: 0.2em;color: black;border-radius: 0.25em;background-color: #f0f8ff;}#sk-container-id-3 input.sk-toggleable__control:checked~div.sk-toggleable__content {max-height: 200px;max-width: 100%;overflow: auto;}#sk-container-id-3 input.sk-toggleable__control:checked~label.sk-toggleable__label-arrow:before {content: \"▾\";}#sk-container-id-3 div.sk-estimator input.sk-toggleable__control:checked~label.sk-toggleable__label {background-color: #d4ebff;}#sk-container-id-3 div.sk-label input.sk-toggleable__control:checked~label.sk-toggleable__label {background-color: #d4ebff;}#sk-container-id-3 input.sk-hidden--visually {border: 0;clip: rect(1px 1px 1px 1px);clip: rect(1px, 1px, 1px, 1px);height: 1px;margin: -1px;overflow: hidden;padding: 0;position: absolute;width: 1px;}#sk-container-id-3 div.sk-estimator {font-family: monospace;background-color: #f0f8ff;border: 1px dotted black;border-radius: 0.25em;box-sizing: border-box;margin-bottom: 0.5em;}#sk-container-id-3 div.sk-estimator:hover {background-color: #d4ebff;}#sk-container-id-3 div.sk-parallel-item::after {content: \"\";width: 100%;border-bottom: 1px solid gray;flex-grow: 1;}#sk-container-id-3 div.sk-label:hover label.sk-toggleable__label {background-color: #d4ebff;}#sk-container-id-3 div.sk-serial::before {content: \"\";position: absolute;border-left: 1px solid gray;box-sizing: border-box;top: 0;bottom: 0;left: 50%;z-index: 0;}#sk-container-id-3 div.sk-serial {display: flex;flex-direction: column;align-items: center;background-color: white;padding-right: 0.2em;padding-left: 0.2em;position: relative;}#sk-container-id-3 div.sk-item {position: relative;z-index: 1;}#sk-container-id-3 div.sk-parallel {display: flex;align-items: stretch;justify-content: center;background-color: white;position: relative;}#sk-container-id-3 div.sk-item::before, #sk-container-id-3 div.sk-parallel-item::before {content: \"\";position: absolute;border-left: 1px solid gray;box-sizing: border-box;top: 0;bottom: 0;left: 50%;z-index: -1;}#sk-container-id-3 div.sk-parallel-item {display: flex;flex-direction: column;z-index: 1;position: relative;background-color: white;}#sk-container-id-3 div.sk-parallel-item:first-child::after {align-self: flex-end;width: 50%;}#sk-container-id-3 div.sk-parallel-item:last-child::after {align-self: flex-start;width: 50%;}#sk-container-id-3 div.sk-parallel-item:only-child::after {width: 0;}#sk-container-id-3 div.sk-dashed-wrapped {border: 1px dashed gray;margin: 0 0.4em 0.5em 0.4em;box-sizing: border-box;padding-bottom: 0.4em;background-color: white;}#sk-container-id-3 div.sk-label label {font-family: monospace;font-weight: bold;display: inline-block;line-height: 1.2em;}#sk-container-id-3 div.sk-label-container {text-align: center;}#sk-container-id-3 div.sk-container {/* jupyter's `normalize.less` sets `[hidden] { display: none; }` but bootstrap.min.css set `[hidden] { display: none !important; }` so we also need the `!important` here to be able to override the default hidden behavior on the sphinx rendered scikit-learn.org. See: https://github.com/scikit-learn/scikit-learn/issues/21755 */display: inline-block !important;position: relative;}#sk-container-id-3 div.sk-text-repr-fallback {display: none;}</style><div id=\"sk-container-id-3\" class=\"sk-top-container\"><div class=\"sk-text-repr-fallback\"><pre>DecisionTreeClassifier(max_depth=1)</pre><b>In a Jupyter environment, please rerun this cell to show the HTML representation or trust the notebook. <br />On GitHub, the HTML representation is unable to render, please try loading this page with nbviewer.org.</b></div><div class=\"sk-container\" hidden><div class=\"sk-item\"><div class=\"sk-estimator sk-toggleable\"><input class=\"sk-toggleable__control sk-hidden--visually\" id=\"sk-estimator-id-3\" type=\"checkbox\" checked><label for=\"sk-estimator-id-3\" class=\"sk-toggleable__label sk-toggleable__label-arrow\">DecisionTreeClassifier</label><div class=\"sk-toggleable__content\"><pre>DecisionTreeClassifier(max_depth=1)</pre></div></div></div></div></div>"
      ],
      "text/plain": [
       "DecisionTreeClassifier(max_depth=1)"
      ]
     },
     "execution_count": 61,
     "metadata": {},
     "output_type": "execute_result"
    }
   ],
   "source": [
    "model_ada_tree.estimator_"
   ]
  },
  {
   "cell_type": "markdown",
   "metadata": {
    "id": "agxTl-tPmu-t"
   },
   "source": [
    "### classes_"
   ]
  },
  {
   "cell_type": "markdown",
   "metadata": {
    "id": "pT5FaSJV-4o5"
   },
   "source": [
    "To know the type of classes used :"
   ]
  },
  {
   "cell_type": "code",
   "execution_count": 29,
   "metadata": {
    "colab": {
     "base_uri": "https://localhost:8080/"
    },
    "id": "ANRPCXJYmwx7",
    "outputId": "a8c9c465-023c-45a6-d052-401648f0f14e"
   },
   "outputs": [
    {
     "data": {
      "text/plain": [
       "array([0, 1])"
      ]
     },
     "execution_count": 29,
     "metadata": {},
     "output_type": "execute_result"
    }
   ],
   "source": [
    "model_ada_tree.classes_"
   ]
  },
  {
   "cell_type": "markdown",
   "metadata": {
    "id": "G1msOfJamxNk"
   },
   "source": [
    "### n_classes_"
   ]
  },
  {
   "cell_type": "markdown",
   "metadata": {
    "id": "WrRM4ld__DM7"
   },
   "source": [
    "To know the number of classes of the model:"
   ]
  },
  {
   "cell_type": "code",
   "execution_count": 30,
   "metadata": {
    "colab": {
     "base_uri": "https://localhost:8080/"
    },
    "id": "MCA0vQOpmzMF",
    "outputId": "468a58a7-4c09-4ba0-a0ca-7691eccd5a1c"
   },
   "outputs": [
    {
     "data": {
      "text/plain": [
       "2"
      ]
     },
     "execution_count": 30,
     "metadata": {},
     "output_type": "execute_result"
    }
   ],
   "source": [
    "model_ada_tree.n_classes_"
   ]
  },
  {
   "cell_type": "markdown",
   "metadata": {
    "id": "yk-7-So1mzkr"
   },
   "source": [
    "### estimator_weights_"
   ]
  },
  {
   "cell_type": "markdown",
   "metadata": {
    "id": "iSWjuqgvA_1L"
   },
   "source": [
    "To know the weight (the contribution) of each estimator :"
   ]
  },
  {
   "cell_type": "code",
   "execution_count": 59,
   "metadata": {
    "colab": {
     "base_uri": "https://localhost:8080/"
    },
    "id": "X8kt6yqkBGre",
    "outputId": "c610888d-e1ab-467a-e083-46a1ef15407e"
   },
   "outputs": [
    {
     "name": "stdout",
     "output_type": "stream",
     "text": [
      "Accuracy = 98.246 %\n",
      "Weights = [2.50688556 1.68777373 1.61072606 1.15990079 1.14323793 0.75608112\n",
      " 0.82393202 1.29946982 0.70549887 1.07903173 0.97252606 1.18752488\n",
      " 0.94317195 0.9222926  0.55825611 1.17205245 0.68871055 0.41277113\n",
      " 0.89261103 0.85868091 0.73511504 0.98656419 0.89183024 0.76549329\n",
      " 0.70095042 0.83110161 0.69018368 0.83843714 0.78698347 0.83687038\n",
      " 0.87871699 0.69031721 0.77295152 0.83453389 0.44880541 0.6077973\n",
      " 0.86512112 0.56673033 0.60847013 0.85142084 0.40621465 0.57315283\n",
      " 0.52565732 0.7333016  0.86762811 0.46982179 0.63215056 0.71088731\n",
      " 0.71293465 0.77420283 0.44929433 0.919956   0.62184872 0.49141706\n",
      " 0.88776188 0.68991062 0.52907368 0.93530308 0.85227414 0.52275226\n",
      " 0.98972011 0.67168443 0.64069475 0.37115374 0.50643274 0.71380438\n",
      " 0.52174477 0.58968296 0.63197269 0.60892523 0.53823681 0.6597374\n",
      " 0.72815692 0.57727752 0.6584436  0.58152721 0.797151   0.73454081\n",
      " 0.67603986 0.78855182 0.57134206 0.83498704 0.608839   0.62501566\n",
      " 0.71129318 0.69357957 0.62230687 0.79609928 0.87742716 0.56004502\n",
      " 0.73144639 0.71035518 0.64234416 0.60619313 0.24846151 0.40824901\n",
      " 0.7444655  0.82716165 0.42834132 0.63215389 0.52829601 0.70254621\n",
      " 0.66195425 0.52239327 0.24451978 0.38847798 0.66228668 0.56081419\n",
      " 0.69208024 0.55980659 0.42203012 0.64477906 0.61715248 0.46575689\n",
      " 0.64291091 0.56890911 0.41660642 0.51043806 0.40288987 0.32754328\n",
      " 0.50096127 0.68745496 0.74440232 0.37038247 0.52634169 0.6463814\n",
      " 0.84888654 0.47551992 0.64481163 0.601829   0.65274311 0.76704265\n",
      " 0.68799168 0.72734466 0.43270181 0.77029725 0.55416908 0.50593809\n",
      " 0.84067016 0.58637249 0.72114041 0.44465622 0.41832679 0.84547452\n",
      " 0.55265394 0.82316515 0.61888395 0.4968884  0.81051898 0.53490603\n",
      " 0.64272615 0.65690265 0.6543072  0.71023135 0.76824047 0.62149288\n",
      " 0.54543523 0.73090132 0.89456375 0.47275316 0.81503541 0.6355103\n",
      " 0.55043185 0.76852192 0.4765303  0.63052102 0.72521324 0.77546724\n",
      " 0.68351483 0.5952028  0.75202745 0.77827894 0.56050522 0.80817896\n",
      " 0.27794528 0.60459681 0.64733367 0.72270112 0.68149627 0.74338629\n",
      " 0.54364482 0.59222383 0.9685916  0.64906041 0.52450496 0.64710791\n",
      " 0.82181801 0.74781486 0.74982334 0.62651125 0.574255   0.45452986\n",
      " 0.47872145 0.76534042 0.49291163 0.73272137 0.6288616  0.72650704\n",
      " 0.58501316 0.24948146]\n"
     ]
    }
   ],
   "source": [
    "weak_learner = DecisionTreeClassifier(max_depth=1)\n",
    "#By default: algorithm=SAMME.R : a variant that works with classifiers that can output prediction probabilities.\n",
    "model_ada_tree = AdaBoostClassifier(estimator=weak_learner, n_estimators=200, algorithm=\"SAMME\", learning_rate=1,random_state=42)\n",
    "\n",
    "model_ada_tree.fit(x_train, y_train)\n",
    "y_pred = model_ada_tree.predict(x_test)\n",
    "\n",
    "print('Accuracy =', round(np.mean(y_test==y_pred)*100,3),'%')\n",
    "\n",
    "wj=model_ada_tree.estimator_weights_\n",
    "print('Weights =', wj)"
   ]
  },
  {
   "cell_type": "code",
   "execution_count": 57,
   "metadata": {},
   "outputs": [
    {
     "data": {
      "image/png": "[encoded data removed]",
      "text/plain": [
       "<Figure size 640x480 with 1 Axes>"
      ]
     },
     "metadata": {},
     "output_type": "display_data"
    }
   ],
   "source": [
    "import matplotlib.pyplot as plt\n",
    "plt.plot(wj,'b-')\n",
    "plt.show()"
   ]
  },
  {
   "cell_type": "markdown",
   "metadata": {
    "id": "HPm--7m5m3Uw"
   },
   "source": [
    "### estimator_errors_"
   ]
  },
  {
   "cell_type": "markdown",
   "metadata": {
    "id": "uiASrMbdCpnv"
   },
   "source": [
    "This attributes indicates the performance of each estimator."
   ]
  },
  {
   "cell_type": "code",
   "execution_count": 63,
   "metadata": {
    "colab": {
     "base_uri": "https://localhost:8080/"
    },
    "id": "TxRM3tGdm_Zd",
    "outputId": "f548943d-5b30-4ea9-a1ed-84e7941560ce"
   },
   "outputs": [
    {
     "name": "stdout",
     "output_type": "stream",
     "text": [
      "98.24561403508771\n",
      "Errors =  [0.07537688 0.15606884 0.16648783 0.23868531 0.24172637 0.3194977\n",
      " 0.30492964 0.21425426 0.33059419 0.2536893  0.27437729 0.2337019\n",
      " 0.28026007 0.28449099 0.36395106 0.2364842  0.33431998 0.39824784\n",
      " 0.2905713  0.29761502 0.32407327 0.27159125 0.29073227 0.3174548\n",
      " 0.33160154 0.30341219 0.33399221 0.30186404 0.31281674 0.30219433\n",
      " 0.29344372 0.33396251 0.31584098 0.30268726 0.38964483 0.35256183\n",
      " 0.29627051 0.36199162 0.35240826 0.29913489 0.39982012 0.36050964\n",
      " 0.37153032 0.32447063 0.29574808 0.38465843 0.34702306 0.32940281\n",
      " 0.32895072 0.31557065 0.38952856 0.28496686 0.34936111 0.3795598\n",
      " 0.29157191 0.33405296 0.37073296 0.28185007 0.29895602 0.37220889\n",
      " 0.27096736 0.33811977 0.34508951 0.40826227 0.37603015 0.32875876\n",
      " 0.37244434 0.3567076  0.34706337 0.35230441 0.36859784 0.3407986\n",
      " 0.32559931 0.35955928 0.34108932 0.35858126 0.31063528 0.32419907\n",
      " 0.33714574 0.31247971 0.36092721 0.30259162 0.35232408 0.34864158\n",
      " 0.32931316 0.33323725 0.34925697 0.31086054 0.29371122 0.36353704\n",
      " 0.32487741 0.32952036 0.34471683 0.35292808 0.43820221 0.39933205\n",
      " 0.32202843 0.30424556 0.39452248 0.34702231 0.3709144  0.33124794\n",
      " 0.34030075 0.37229278 0.43917283 0.40408375 0.34022613 0.36335909\n",
      " 0.33357047 0.36359221 0.39603106 0.34416703 0.35042935 0.38562102\n",
      " 0.34458882 0.36148858 0.39732909 0.37509084 0.40061822 0.4188385\n",
      " 0.37731479 0.33459947 0.32204223 0.40844861 0.37137053 0.34380544\n",
      " 0.29966648 0.38331059 0.34415968 0.35392536 0.34237165 0.31711919\n",
      " 0.33447998 0.32577769 0.39348135 0.31641481 0.36489769 0.37614621\n",
      " 0.30139366 0.3574676  0.32714191 0.39063205 0.3969172  0.30038304\n",
      " 0.36524889 0.3050922  0.35003532 0.37827218 0.30777992 0.36937336\n",
      " 0.34463055 0.34143573 0.34201958 0.32954772 0.31685985 0.349442\n",
      " 0.36692412 0.32499697 0.29016893 0.38396482 0.30681852 0.34626215\n",
      " 0.36576422 0.31679893 0.38307178 0.34739241 0.32624603 0.31529762\n",
      " 0.33547728 0.35544198 0.32037969 0.31469093 0.36343057 0.30827868\n",
      " 0.43095759 0.35329272 0.34359064 0.32679846 0.33592743 0.3222641\n",
      " 0.36734011 0.35612477 0.27516131 0.3432013  0.37179943 0.34364156\n",
      " 0.30537788 0.32129762 0.3208598  0.34830202 0.36025559 0.38828429\n",
      " 0.38255408 0.31748793 0.3792079  0.32459783 0.34776871 0.3259617\n",
      " 0.35777988 0.43795113]\n"
     ]
    },
    {
     "data": {
      "image/png": "[encoded data removed]",
      "text/plain": [
       "<Figure size 640x480 with 1 Axes>"
      ]
     },
     "metadata": {},
     "output_type": "display_data"
    }
   ],
   "source": [
    "weak_learner = DecisionTreeClassifier(max_depth=1)\n",
    "model_ada_tree = AdaBoostClassifier(estimator=weak_learner, n_estimators=200, algorithm=\"SAMME\", learning_rate=1,random_state=42)\n",
    "\n",
    "model_ada_tree.fit(x_train, y_train)\n",
    "y_pred = model_ada_tree.predict(x_test)\n",
    "\n",
    "print(np.mean(y_test==y_pred)*100)\n",
    "e=model_ada_tree.estimator_errors_\n",
    "print('Errors = ', e)\n",
    "plt.plot(e,'r--')\n",
    "plt.show()"
   ]
  },
  {
   "cell_type": "markdown",
   "metadata": {},
   "source": [
    "### Hyperparameter tuning"
   ]
  },
  {
   "cell_type": "code",
   "execution_count": 34,
   "metadata": {},
   "outputs": [
    {
     "name": "stdout",
     "output_type": "stream",
     "text": [
      "Best Parameters: {'estimator': DecisionTreeClassifier(max_depth=1), 'learning_rate': 1.0, 'n_estimators': 150}\n",
      "Best Score: 96.48 %\n"
     ]
    }
   ],
   "source": [
    "from sklearn.model_selection import GridSearchCV\n",
    "\n",
    "# Define parameter grid for grid search\n",
    "param_grid = {\n",
    "    'n_estimators': [50, 100, 150,200],\n",
    "    'learning_rate': [0.01, 0.1, 1.0],\n",
    "    'estimator': [DecisionTreeClassifier(max_depth=1), DecisionTreeClassifier(max_depth=2)],\n",
    "}\n",
    "\n",
    "# Initialize AdaBoost classifier\n",
    "ada_classifier = AdaBoostClassifier()\n",
    "\n",
    "# Perform grid search with cross-validation\n",
    "grid_search = GridSearchCV(ada_classifier, param_grid, cv=5)\n",
    "grid_search.fit(x_train, y_train)\n",
    "\n",
    "# Print best parameters and best score\n",
    "print(\"Best Parameters:\", grid_search.best_params_)\n",
    "print(\"Best Score:\", round(grid_search.best_score_*100,2),'%')\n"
   ]
  },
  {
   "cell_type": "markdown",
   "metadata": {
    "id": "fQ4PhY-Vm_vu"
   },
   "source": [
    "### feature_importances_"
   ]
  },
  {
   "cell_type": "code",
   "execution_count": 64,
   "metadata": {
    "colab": {
     "base_uri": "https://localhost:8080/"
    },
    "id": "KbfygtUFnDFx",
    "outputId": "ba6fb454-3fb8-4669-8c6c-b55b78624255"
   },
   "outputs": [
    {
     "name": "stdout",
     "output_type": "stream",
     "text": [
      "feature importance = [0.         0.08262059 0.         0.0091785  0.0246306  0.04289937\n",
      " 0.01536384 0.07425291 0.03133921 0.0140283  0.04403871 0.\n",
      " 0.01668405 0.03681484 0.03497389 0.05784397 0.02614038 0.02415414\n",
      " 0.01613162 0.03821912 0.00796244 0.06341943 0.01166152 0.08265423\n",
      " 0.05824833 0.00502925 0.04963193 0.07231094 0.05976788 0.        ]\n"
     ]
    }
   ],
   "source": [
    "print('feature importance =', model_ada_tree.feature_importances_)"
   ]
  },
  {
   "cell_type": "code",
   "execution_count": 36,
   "metadata": {
    "colab": {
     "base_uri": "https://localhost:8080/",
     "height": 131
    },
    "id": "Bnu7CzUKDOMR",
    "outputId": "482fa164-3e11-4814-990d-c7d46e2b80a3"
   },
   "outputs": [
    {
     "data": {
      "text/html": [
       "<div>\n",
       "<style scoped>\n",
       "    .dataframe tbody tr th:only-of-type {\n",
       "        vertical-align: middle;\n",
       "    }\n",
       "\n",
       "    .dataframe tbody tr th {\n",
       "        vertical-align: top;\n",
       "    }\n",
       "\n",
       "    .dataframe thead th {\n",
       "        text-align: right;\n",
       "    }\n",
       "</style>\n",
       "<table border=\"1\" class=\"dataframe\">\n",
       "  <thead>\n",
       "    <tr style=\"text-align: right;\">\n",
       "      <th></th>\n",
       "      <th>mean radius</th>\n",
       "      <th>mean texture</th>\n",
       "      <th>mean perimeter</th>\n",
       "      <th>mean area</th>\n",
       "      <th>mean smoothness</th>\n",
       "      <th>mean compactness</th>\n",
       "      <th>mean concavity</th>\n",
       "      <th>mean concave points</th>\n",
       "      <th>mean symmetry</th>\n",
       "      <th>mean fractal dimension</th>\n",
       "      <th>...</th>\n",
       "      <th>worst radius</th>\n",
       "      <th>worst texture</th>\n",
       "      <th>worst perimeter</th>\n",
       "      <th>worst area</th>\n",
       "      <th>worst smoothness</th>\n",
       "      <th>worst compactness</th>\n",
       "      <th>worst concavity</th>\n",
       "      <th>worst concave points</th>\n",
       "      <th>worst symmetry</th>\n",
       "      <th>worst fractal dimension</th>\n",
       "    </tr>\n",
       "  </thead>\n",
       "  <tbody>\n",
       "    <tr>\n",
       "      <th>0</th>\n",
       "      <td>0.0</td>\n",
       "      <td>0.082621</td>\n",
       "      <td>0.0</td>\n",
       "      <td>0.009178</td>\n",
       "      <td>0.024631</td>\n",
       "      <td>0.042899</td>\n",
       "      <td>0.015364</td>\n",
       "      <td>0.074253</td>\n",
       "      <td>0.031339</td>\n",
       "      <td>0.014028</td>\n",
       "      <td>...</td>\n",
       "      <td>0.007962</td>\n",
       "      <td>0.063419</td>\n",
       "      <td>0.011662</td>\n",
       "      <td>0.082654</td>\n",
       "      <td>0.058248</td>\n",
       "      <td>0.005029</td>\n",
       "      <td>0.049632</td>\n",
       "      <td>0.072311</td>\n",
       "      <td>0.059768</td>\n",
       "      <td>0.0</td>\n",
       "    </tr>\n",
       "  </tbody>\n",
       "</table>\n",
       "<p>1 rows × 30 columns</p>\n",
       "</div>"
      ],
      "text/plain": [
       "   mean radius  mean texture  mean perimeter  mean area  mean smoothness  \\\n",
       "0          0.0      0.082621             0.0   0.009178         0.024631   \n",
       "\n",
       "   mean compactness  mean concavity  mean concave points  mean symmetry  \\\n",
       "0          0.042899        0.015364             0.074253       0.031339   \n",
       "\n",
       "   mean fractal dimension  ...  worst radius  worst texture  worst perimeter  \\\n",
       "0                0.014028  ...      0.007962       0.063419         0.011662   \n",
       "\n",
       "   worst area  worst smoothness  worst compactness  worst concavity  \\\n",
       "0    0.082654          0.058248           0.005029         0.049632   \n",
       "\n",
       "   worst concave points  worst symmetry  worst fractal dimension  \n",
       "0              0.072311        0.059768                      0.0  \n",
       "\n",
       "[1 rows x 30 columns]"
      ]
     },
     "execution_count": 36,
     "metadata": {},
     "output_type": "execute_result"
    }
   ],
   "source": [
    "pd.DataFrame([model_ada_tree.feature_importances_], columns=cancer['feature_names'])"
   ]
  }
 ],
 "metadata": {
  "colab": {
   "collapsed_sections": [],
   "name": "AdaBoost avec sklearn.ipynb",
   "provenance": []
  },
  "kernelspec": {
   "display_name": "Python 3 (ipykernel)",
   "language": "python",
   "name": "python3"
  },
  "language_info": {
   "codemirror_mode": {
    "name": "ipython",
    "version": 3
   },
   "file_extension": ".py",
   "mimetype": "text/x-python",
   "name": "python",
   "nbconvert_exporter": "python",
   "pygments_lexer": "ipython3",
   "version": "3.11.6"
  }
 },
 "nbformat": 4,
 "nbformat_minor": 1
}
